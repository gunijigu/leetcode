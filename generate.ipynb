{
 "cells": [
  {
   "cell_type": "code",
   "execution_count": 1,
   "metadata": {},
   "outputs": [
    {
     "name": "stdout",
     "output_type": "stream",
     "text": [
      "[[1], [1, 1], [1, 2, 1], [1, 3, 3, 1], [1, 4, 6, 4, 1]]\n"
     ]
    }
   ],
   "source": [
    "'''\n",
    "+--------------------------------------------------------------------------------------+\n",
    "\n",
    "给定一个非负整数 numRows，生成杨辉三角的前 numRows 行。\n",
    "\n",
    "+--------------------------------------------------------------------------------------+\n",
    "'''\n",
    "from typing import List\n",
    "def generate(numRows: int) -> List[List[int]]:\n",
    "    result = []\n",
    "    if numRows <= 0:\n",
    "        return result\n",
    "    for index1 in range(1, numRows + 1):\n",
    "        data = []\n",
    "        if index1 == 1:\n",
    "            data.append(1)\n",
    "        elif index1 == 2:\n",
    "            data.append(1)\n",
    "            data.append(1)\n",
    "        else:\n",
    "            for index2 in range(0, index1):\n",
    "                if index2 == 0:\n",
    "                    data.append(1)\n",
    "                elif index2 > 0 and index2 < index1 - 1:\n",
    "                    data.append(result[index1 - 2][index2 - 1] + result[index1 - 2][index2])\n",
    "                else:\n",
    "                    data.append(1)\n",
    "        result.append(data)\n",
    "    return result\n",
    "\n",
    "\n",
    "print(generate(5))"
   ]
  }
 ],
 "metadata": {
  "kernelspec": {
   "display_name": "Python 3",
   "language": "python",
   "name": "python3"
  },
  "language_info": {
   "codemirror_mode": {
    "name": "ipython",
    "version": 3
   },
   "file_extension": ".py",
   "mimetype": "text/x-python",
   "name": "python",
   "nbconvert_exporter": "python",
   "pygments_lexer": "ipython3",
   "version": "3.9.0"
  }
 },
 "nbformat": 4,
 "nbformat_minor": 4
}
