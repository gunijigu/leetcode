{
 "cells": [
  {
   "cell_type": "code",
   "execution_count": 3,
   "metadata": {},
   "outputs": [
    {
     "name": "stdout",
     "output_type": "stream",
     "text": [
      "[123, 234]\n",
      "[1234, 2345, 3456, 4567, 5678, 6789, 12345]\n"
     ]
    }
   ],
   "source": [
    "'''\n",
    "+--------------------------------------------------------------------------------------+\n",
    "\n",
    "我们定义「顺次数」为：每一位上的数字都比前一位上的数字大 1 的整数。\n",
    "\n",
    "请你返回由 [low, high] 范围内所有顺次数组成的 有序 列表（从小到大排序）。\n",
    "\n",
    "+--------------------------------------------------------------------------------------+\n",
    "'''\n",
    "def sequentialDigits(low, high):\n",
    "    res = []   \n",
    "    l_low = len(str(low))\n",
    "    l_high = len(str(high))\n",
    "    for l in range(l_low, l_high + 1):\n",
    "        for start_digit in range(1, 11 - l):\n",
    "            num = \"\"\n",
    "            for k in range(l):\n",
    "                num += str(start_digit + k)\n",
    "            num = int(num)\n",
    "                \n",
    "            if low <= num <= high:\n",
    "                res.append(num)\n",
    "                    \n",
    "    return res\n",
    "\n",
    "\n",
    "print(sequentialDigits(100,300))\n",
    "print(sequentialDigits(1000,13000))"
   ]
  }
 ],
 "metadata": {
  "kernelspec": {
   "display_name": "Python 3",
   "language": "python",
   "name": "python3"
  },
  "language_info": {
   "codemirror_mode": {
    "name": "ipython",
    "version": 3
   },
   "file_extension": ".py",
   "mimetype": "text/x-python",
   "name": "python",
   "nbconvert_exporter": "python",
   "pygments_lexer": "ipython3",
   "version": "3.9.0"
  }
 },
 "nbformat": 4,
 "nbformat_minor": 4
}
