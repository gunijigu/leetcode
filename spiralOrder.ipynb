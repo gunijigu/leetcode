{
 "cells": [
  {
   "cell_type": "code",
   "execution_count": 3,
   "metadata": {},
   "outputs": [
    {
     "name": "stdout",
     "output_type": "stream",
     "text": [
      "[1, 2, 3, 6, 9, 8, 7, 4, 5]\n",
      "[1, 2, 3, 4, 8, 12, 11, 10, 9, 5, 6, 7]\n"
     ]
    }
   ],
   "source": [
    "'''\n",
    "+--------------------------------------------------------------------------------------+\n",
    "\n",
    "给定一个包含 m x n 个元素的矩阵（m 行, n 列），\n",
    "请按照顺时针螺旋顺序，返回矩阵中的所有元素。\n",
    "\n",
    "+--------------------------------------------------------------------------------------+\n",
    "'''\n",
    "def spiralOrder(matrix):\n",
    "    import math\n",
    "    if matrix == []:\n",
    "        return matrix\n",
    "    list1 = []\n",
    "    wide = len(matrix[0])\n",
    "    high = len(matrix)\n",
    "    rounds = (min(wide,high)+1)//2\n",
    "    for i in range(rounds):  #轮次逐层计算  \n",
    "        for j in range(4):  #表示4个边，我们顺时针计算\n",
    "            if j == 0:  #表示上边\n",
    "                list1 = list1 + [matrix[i][z] for z in range(i,wide - i)]\n",
    "            elif j == 1:  #表示右边\n",
    "                list1 = list1 + [matrix[z][wide- i -1] for z in range(i + 1,high - i)]\n",
    "            elif j == 2 and high - i -1 != i: #下方\n",
    "                list1 = list1 + [matrix[high - i -1][z] for z in range(wide - i - 2,i-1,-1)]\n",
    "            elif j == 3 and wide - i - 1 != i: #左边\n",
    "                list1 = list1 + [matrix[z][i] for z in range(high - i - 2,i,-1)]     \n",
    "    return list1\n",
    "\n",
    "print(spiralOrder([ [ 1, 2, 3 ], [ 4, 5, 6 ], [ 7, 8, 9 ]]))\n",
    "print(spiralOrder([[1, 2, 3, 4],[5, 6, 7, 8],[9,10,11,12]]))\n"
   ]
  }
 ],
 "metadata": {
  "kernelspec": {
   "display_name": "Python 3",
   "language": "python",
   "name": "python3"
  },
  "language_info": {
   "codemirror_mode": {
    "name": "ipython",
    "version": 3
   },
   "file_extension": ".py",
   "mimetype": "text/x-python",
   "name": "python",
   "nbconvert_exporter": "python",
   "pygments_lexer": "ipython3",
   "version": "3.9.0"
  }
 },
 "nbformat": 4,
 "nbformat_minor": 4
}
