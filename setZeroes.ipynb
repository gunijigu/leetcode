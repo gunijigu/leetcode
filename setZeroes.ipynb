{
 "cells": [
  {
   "cell_type": "code",
   "execution_count": 9,
   "metadata": {},
   "outputs": [
    {
     "name": "stdout",
     "output_type": "stream",
     "text": [
      "[[1, 0, 1], [0, 0, 0], [1, 0, 1]]\n",
      "[[0, 0, 0, 0], [0, 4, 5, 0], [0, 3, 1, 0]]\n"
     ]
    }
   ],
   "source": [
    "'''\n",
    "+--------------------------------------------------------------------------------------+\n",
    "\n",
    "给定一个 m x n 的矩阵，如果一个元素为 0，则将其所在行和列的所有元素都设为 0。\n",
    "请使用原地算法。\n",
    "\n",
    "+--------------------------------------------------------------------------------------+\n",
    "'''\n",
    "from typing import List\n",
    "def setZeroes(matrix : List[List[int]]):\n",
    "    rows=len(matrix)\n",
    "    cols=len(matrix[0])\n",
    "    row_index=[]\n",
    "    col_index=[]\n",
    "    for row in range(rows):\n",
    "        for col in range(cols):\n",
    "            if matrix[row][col]==0:\n",
    "                row_index.append(row)\n",
    "                col_index.append(col)\n",
    "\n",
    "    for row in row_index:\n",
    "        matrix[row]=[0]*cols\n",
    "\n",
    "    for col in col_index:\n",
    "        for row in range(rows):\n",
    "            matrix[row][col]=0\n",
    "            \n",
    "a = [[1,1,1],[1,0,1],[1,1,1]]\n",
    "setZeroes(a)\n",
    "print(a)\n",
    "b = [[0,1,2,0],[3,4,5,2],[1,3,1,5]]\n",
    "setZeroes(b)\n",
    "print(b)"
   ]
  }
 ],
 "metadata": {
  "kernelspec": {
   "display_name": "Python 3",
   "language": "python",
   "name": "python3"
  },
  "language_info": {
   "codemirror_mode": {
    "name": "ipython",
    "version": 3
   },
   "file_extension": ".py",
   "mimetype": "text/x-python",
   "name": "python",
   "nbconvert_exporter": "python",
   "pygments_lexer": "ipython3",
   "version": "3.9.0"
  }
 },
 "nbformat": 4,
 "nbformat_minor": 4
}
