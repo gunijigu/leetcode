{
 "cells": [
  {
   "cell_type": "code",
   "execution_count": 1,
   "metadata": {},
   "outputs": [
    {
     "name": "stdout",
     "output_type": "stream",
     "text": [
      "5\n"
     ]
    }
   ],
   "source": [
    "'''\n",
    "+--------------------------------------------------------------------------------------+\n",
    "\n",
    "给定一个仅包含大小写字母和空格 ' ' 的字符串 s，返回其最后一个单词的长度。如果字符串从左向右滚动显示，那么最后一个单词就是最后出现的单词。\n",
    "\n",
    "如果不存在最后一个单词，请返回 0 。\n",
    "\n",
    "+--------------------------------------------------------------------------------------+\n",
    "'''\n",
    "def lengthOfLastWord(s: str) -> int:\n",
    "    if s == \" \":\n",
    "        return 0\n",
    "    s = s.rstrip()\n",
    "    length = len(s)\n",
    "    if length == 0:\n",
    "        return 0\n",
    "    anchor = 0\n",
    "    result = 0\n",
    "    for index in range(length - 1, -1, -1):\n",
    "        if s[index] == ' ':\n",
    "            anchor = index\n",
    "            break\n",
    "    if anchor > 0:\n",
    "        result = length - 1 - anchor\n",
    "    elif anchor == 0:\n",
    "        if s[0] == ' ':\n",
    "            result = len(s) - 1\n",
    "        else:\n",
    "            result = len(s)\n",
    "    return result\n",
    "\n",
    "    \n",
    "print(lengthOfLastWord(\"Hello World\"))"
   ]
  }
 ],
 "metadata": {
  "kernelspec": {
   "display_name": "Python 3",
   "language": "python",
   "name": "python3"
  },
  "language_info": {
   "codemirror_mode": {
    "name": "ipython",
    "version": 3
   },
   "file_extension": ".py",
   "mimetype": "text/x-python",
   "name": "python",
   "nbconvert_exporter": "python",
   "pygments_lexer": "ipython3",
   "version": "3.9.0"
  }
 },
 "nbformat": 4,
 "nbformat_minor": 4
}
