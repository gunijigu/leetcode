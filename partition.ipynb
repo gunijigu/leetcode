{
 "cells": [
  {
   "cell_type": "code",
   "execution_count": 5,
   "metadata": {},
   "outputs": [
    {
     "name": "stdout",
     "output_type": "stream",
     "text": [
      "[['a', 'a', 'b'], ['aa', 'b']]\n"
     ]
    }
   ],
   "source": [
    "'''\n",
    "+--------------------------------------------------------------------------------------+\n",
    "\n",
    "给定一个字符串 s，将 s 分割成一些子串，使每个子串都是回文串。\n",
    "\n",
    "返回 s 所有可能的分割方案。\n",
    "\n",
    "+--------------------------------------------------------------------------------------+\n",
    "'''\n",
    "def partition(s : str):\n",
    "        if(s==''):return []\n",
    "        e=[]\n",
    "        if(s==s[::-1]):e.append([s]) \n",
    "        for i in range(len(s)):\n",
    "            if(s[:i+1]==s[i::-1] ):\n",
    "                p=partition(s[i+1:])\n",
    "                for c in p:\n",
    "                    if(c!=[]):e.append([s[:i+1]]+c)\n",
    "  \n",
    "        return e\n",
    "\n",
    "\n",
    "print(partition(\"aab\"))"
   ]
  }
 ],
 "metadata": {
  "kernelspec": {
   "display_name": "Python 3",
   "language": "python",
   "name": "python3"
  },
  "language_info": {
   "codemirror_mode": {
    "name": "ipython",
    "version": 3
   },
   "file_extension": ".py",
   "mimetype": "text/x-python",
   "name": "python",
   "nbconvert_exporter": "python",
   "pygments_lexer": "ipython3",
   "version": "3.9.0"
  }
 },
 "nbformat": 4,
 "nbformat_minor": 4
}
