{
 "cells": [
  {
   "cell_type": "code",
   "execution_count": 92,
   "metadata": {},
   "outputs": [
    {
     "name": "stdout",
     "output_type": "stream",
     "text": [
      "[0, 1]\n",
      "[0, 2]\n",
      "[0, 1]\n"
     ]
    }
   ],
   "source": [
    "'''\n",
    "+------------------------------------------01------------------------------------------+\n",
    "\n",
    "两数之和\n",
    "给定一个整数数组nums和一个整数目标值target请你在该数组中找出和为目标值的那两个整数，并\n",
    "返回它们的数组下标。\n",
    "\n",
    "你可以假设每种输入只会对应一个答案。但是，数组中同一个元素不能使用两遍。\n",
    "\n",
    "你可以按任意顺序返回答案。\n",
    "\n",
    "+--------------------------------------------------------------------------------------+\n",
    "'''\n",
    "def twoSum(nums: List[int], target: int) -> List[int]:\n",
    "    n  = int(inputs[0])\n",
    "    flag =0\n",
    "    for i in range(n):\n",
    "        if flag == 1:\n",
    "            break\n",
    "        num = target - nums[i]\n",
    "        for j in range(i+1,n):\n",
    "            if num == nums[j]:\n",
    "                flag = 1\n",
    "                index_1 = i\n",
    "                index_2 =j\n",
    "                break\n",
    "    if flag == 1:\n",
    "        return[index_1,index_2]\n",
    "    else:\n",
    "        return(\"false\")\n",
    "    \n",
    "    \n",
    "print(twoSum([2,7,11,15],9))\n",
    "print(twoSum([2,3,4],6))\n",
    "print(twoSum([3,3],6))"
   ]
  },
  {
   "cell_type": "code",
   "execution_count": 94,
   "metadata": {},
   "outputs": [
    {
     "name": "stdout",
     "output_type": "stream",
     "text": [
      "321\n",
      "-321\n",
      "21\n"
     ]
    }
   ],
   "source": [
    "'''\n",
    "+------------------------------------------02------------------------------------------+\n",
    "\n",
    "给出一个 32 位的有符号整数，你需要将这个整数中每位上的数字进行反转。\n",
    "\n",
    "+--------------------------------------------------------------------------------------+\n",
    "'''\n",
    "def reverse(x: int) -> int:\n",
    "    a = str(x)\n",
    "    y = list(a)\n",
    "    y.reverse()\n",
    "    if y[-1] == \"-\":\n",
    "        y.remove('-')\n",
    "        y.insert(0,\"-\")\n",
    "    if y[0] == 0:\n",
    "        y.remove('0')\n",
    "    y2 = ''.join(y)\n",
    "    z = int(str(y2))\n",
    "    if z < (-2**31) or z > (2**31-1):\n",
    "        z = 0\n",
    "    return z\n",
    "\n",
    "\n",
    "print(reverse(123))\n",
    "print(reverse(-123))\n",
    "print(reverse(120))"
   ]
  },
  {
   "cell_type": "code",
   "execution_count": 98,
   "metadata": {},
   "outputs": [
    {
     "name": "stdout",
     "output_type": "stream",
     "text": [
      "3\n",
      "4\n",
      "9\n",
      "58\n",
      "1994\n",
      "1453\n"
     ]
    }
   ],
   "source": [
    "'''\n",
    "+------------------------------------------03------------------------------------------+\n",
    "\n",
    "罗马数字包含以下七种字符: I， V， X， L，C，D 和 M。\n",
    "\n",
    "字符          数值\n",
    "I             1\n",
    "V             5\n",
    "X             10\n",
    "L             50\n",
    "C             100\n",
    "D             500\n",
    "M             1000\n",
    "例如， 罗马数字 2 写做 II ，即为两个并列的 1。12 写做 XII ，即为 X + II 。 27 写\n",
    "做  XXVII, 即为 XX + V + II 。\n",
    "\n",
    "通常情况下，罗马数字中小的数字在大的数字的右边。但也存在特例，例如 4 不写做 IIII，而是\n",
    "IV。数字 1 在数字 5 的左边，所表示的数等于大数 5 减小数 1 得到的数值 4 。同样地，数字 9 \n",
    "表示为 IX。这个特殊的规则只适用于以下六种情况：\n",
    "\n",
    "I 可以放在 V (5) 和 X (10) 的左边，来表示 4 和 9。\n",
    "X 可以放在 L (50) 和 C (100) 的左边，来表示 40 和 90。 \n",
    "C 可以放在 D (500) 和 M (1000) 的左边，来表示 400 和 900。\n",
    "给定一个罗马数字，将其转换成整数。输入确保在 1 到 3999 的范围内。\n",
    "\n",
    "+--------------------------------------------------------------------------------------+\n",
    "'''\n",
    "def romanToInt(s: str) -> int:\n",
    "    dict = {\"I\": 1, \"V\": 5, \"X\": 10, \"L\": 50, \"C\": 100, \"D\": 500, \"M\": 1000}\n",
    "    special = {\"IV\": 4, \"IX\": 9, \"XL\": 40, \"XC\": 90, \"CD\": 400, \"CM\": 900}\n",
    "    num = 0\n",
    "    i = 0\n",
    "    while i in range(0,len(s)):\n",
    "        j = i+2\n",
    "        if s[i:j] in special.keys():\n",
    "            num += special[s[i:j]]\n",
    "            i += 2\n",
    "        else:\n",
    "            num += dict[s[i]]\n",
    "            i += 1\n",
    "    return num\n",
    "\n",
    "\n",
    "print(romanToInt(\"III\"))\n",
    "print(romanToInt(\"IV\"))\n",
    "print(romanToInt(\"IX\"))\n",
    "print(romanToInt(\"LVIII\"))\n",
    "print(romanToInt(\"MCMXCIV\"))\n",
    "print(romanToInt(\"MCDLIII\"))\n"
   ]
  },
  {
   "cell_type": "code",
   "execution_count": 101,
   "metadata": {},
   "outputs": [
    {
     "name": "stdout",
     "output_type": "stream",
     "text": [
      "fl\n",
      "\n"
     ]
    }
   ],
   "source": [
    "'''\n",
    "+------------------------------------------04------------------------------------------+\n",
    "\n",
    "编写一个函数来查找字符串数组中的最长公共前缀。\n",
    "\n",
    "如果不存在公共前缀，返回空字符串 \"\"。\n",
    "\n",
    "+--------------------------------------------------------------------------------------+\n",
    "'''\n",
    "def longestCommonPrefix(strs: List[str]) -> str:\n",
    "    if not strs:\n",
    "        return \"\"\n",
    "    length = len(strs)\n",
    "    if length == 1:\n",
    "        return strs[0]\n",
    "    result = strs[0]\n",
    "    for index in range(1,length):\n",
    "        if strs[index] == 0 or not result:\n",
    "                return \"\"\n",
    "        length_min = min(len(result),len(strs[index]))\n",
    "        auxiliary = \"\"\n",
    "        for index2 in range(length_min):\n",
    "            if result[index2] == strs[index][index2]:\n",
    "                auxiliary = auxiliary + result[index2]\n",
    "            else:\n",
    "                break\n",
    "        result = auxiliary\n",
    "    return result\n",
    "\n",
    "\n",
    "print(longestCommonPrefix([\"flower\",\"flow\",\"flight\"]))\n",
    "print(longestCommonPrefix([\"dog\",\"racecar\",\"car\"]))"
   ]
  },
  {
   "cell_type": "code",
   "execution_count": 111,
   "metadata": {},
   "outputs": [
    {
     "name": "stdout",
     "output_type": "stream",
     "text": [
      "True\n",
      "True\n",
      "False\n",
      "False\n",
      "True\n"
     ]
    }
   ],
   "source": [
    "'''\n",
    "+------------------------------------------05------------------------------------------+\n",
    "\n",
    "给定一个只包括 '('，')'，'{'，'}'，'['，']' 的字符串，判断字符串是否有效。\n",
    "\n",
    "有效字符串需满足：\n",
    "\n",
    "左括号必须用相同类型的右括号闭合。\n",
    "左括号必须以正确的顺序闭合。\n",
    "注意空字符串可被认为是有效字符串。\n",
    "\n",
    "+--------------------------------------------------------------------------------------+\n",
    "'''\n",
    "def isValid(s: str) -> bool:\n",
    "    if len(s)<2 or len(s)%2!=0:\n",
    "        if s == '':\n",
    "            return True\n",
    "        else:\n",
    "            return False\n",
    "    count = 0\n",
    "    length = len(s)\n",
    "    while(count < length/2):\n",
    "        s = s.replace(\"{}\",\"\").replace(\"[]\",\"\").replace(\"()\",\"\")\n",
    "        count += 1\n",
    "    if len(s) > 0:\n",
    "        return False\n",
    "    else:\n",
    "        return True\n",
    "\n",
    "\n",
    "print(isValid(\"()\"))\n",
    "print(isValid(\"()[]{}\"))\n",
    "print(isValid(\"(]\"))\n",
    "print(isValid(\"([)]\"))\n",
    "print(isValid(\"{[]}\"))"
   ]
  },
  {
   "cell_type": "code",
   "execution_count": 115,
   "metadata": {},
   "outputs": [
    {
     "name": "stdout",
     "output_type": "stream",
     "text": [
      "3\n",
      "1\n",
      "3\n",
      "0\n"
     ]
    }
   ],
   "source": [
    "'''\n",
    "+------------------------------------------06------------------------------------------+\n",
    "\n",
    "给定一个字符串，请你找出其中不含有重复字符的最长子串的长度。\n",
    "\n",
    "+--------------------------------------------------------------------------------------+\n",
    "'''\n",
    "def lengthOfLongestSubstring(s: str) -> int:\n",
    "    temp = 0\n",
    "    length = len(s)\n",
    "    if length <= 0:\n",
    "        temp = 0\n",
    "    if length == 1:\n",
    "        temp = 1\n",
    "    head = 0\n",
    "    max_length = 0\n",
    "    myHashMap = {}\n",
    "    for index in range(length):\n",
    "        if s[index] in myHashMap and head <= myHashMap[s[index]]:\n",
    "            head = myHashMap[s[index]] + 1\n",
    "        else:\n",
    "            max_length = max(max_length, index - head + 1)\n",
    "        myHashMap[s[index]] = index\n",
    "    temp = max_length\n",
    "    return temp\n",
    "\n",
    "\n",
    "print(lengthOfLongestSubstring(\"abcabcbb\"))\n",
    "print(lengthOfLongestSubstring(\"bbbbb\"))\n",
    "print(lengthOfLongestSubstring(\"pwwkew\"))\n",
    "print(lengthOfLongestSubstring(\"\"))"
   ]
  },
  {
   "cell_type": "code",
   "execution_count": 113,
   "metadata": {},
   "outputs": [
    {
     "name": "stdout",
     "output_type": "stream",
     "text": [
      "bab\n",
      "bb\n"
     ]
    }
   ],
   "source": [
    "'''\n",
    "+------------------------------------------07------------------------------------------+\n",
    "\n",
    "给定一个字符串s，找到s中最长的回文子串。你可以假设s的最大长度为 1000。\n",
    "\n",
    "+--------------------------------------------------------------------------------------+\n",
    "'''\n",
    "def longestPalindrome(s: str) -> str:\n",
    "    a = \"\"\n",
    "    len_str=len(s)\n",
    "    if len_str==0:\n",
    "        a = ''\n",
    "    if len_str==1:\n",
    "        a =  s[0]\n",
    "    longest_len_odd=[]\n",
    "    longest_str_odd=[]\n",
    "    longest_len_even=[]\n",
    "    longest_str_even=[]\n",
    "    for i in range(len_str):\n",
    "        left=i\n",
    "        right=i\n",
    "        while left>=0 and right<len_str and s[left]==s[right]:\n",
    "            left=left-1\n",
    "            right=right+1\n",
    "        longest_len_odd.append(right-left-1)\n",
    "        longest_str_odd.append(s[left+1:right]) \n",
    "    for i in range(len_str):\n",
    "        left=i\n",
    "        right=i+1\n",
    "        while left>=0 and right<len_str and s[left]==s[right]:\n",
    "            left=left-1\n",
    "            right=right+1\n",
    "        longest_len_even.append(right-left-1)\n",
    "        longest_str_even.append(s[left+1:right]) \n",
    "    if max(longest_len_even)>=max(longest_len_odd):\n",
    "        a = longest_str_even[longest_len_even.index(max(longest_len_even))]\n",
    "    else:\n",
    "        a = longest_str_odd[longest_len_odd.index(max(longest_len_odd))]\n",
    "    return a\n",
    "\n",
    "\n",
    "print(longestPalindrome(\"babad\"))\n",
    "print(longestPalindrome(\"cbbd\"))"
   ]
  },
  {
   "cell_type": "code",
   "execution_count": 41,
   "metadata": {},
   "outputs": [
    {
     "name": "stdout",
     "output_type": "stream",
     "text": [
      "['aa', 'ba', 'ca', 'ab', 'bb', 'cb', 'ac', 'bc', 'cc']\n"
     ]
    }
   ],
   "source": [
    "'''\n",
    "+------------------------------------------08------------------------------------------+\n",
    "\n",
    "给定一个仅包含数字 2-9 的字符串，返回所有它能表示的字母组合。\n",
    "\n",
    "给出数字到字母的映射如下（与电话按键相同）。注意 1 不对应任何字母。\n",
    "\n",
    "+--------------------------------------------------------------------------------------+\n",
    "'''\n",
    "def phpeLetter(digits):\n",
    "    if not digits:\n",
    "        return []\n",
    "    keyboard = {\n",
    "        '2':'abc',\n",
    "        '3':'def',\n",
    "        '4':'ghi',\n",
    "        '5':'jkl',\n",
    "        '6':'mno',\n",
    "        '7':'pqrs',\n",
    "        '8':'tyv',\n",
    "        '9':'wxyz',\n",
    "    }\n",
    "    if len(digits) == 0:\n",
    "        return []\n",
    "    if len(digits) == 1:\n",
    "        return keyboard[digits]\n",
    "    result = phpeLetter(digits[1:])\n",
    "    for i in keyboard[digits[0]]:\n",
    "        for j in keyboard[digits[0]]:\n",
    "            res.append((j+i))\n",
    "    return res\n",
    "\n",
    "\n",
    "print(phpeLetter('23'))"
   ]
  },
  {
   "cell_type": "code",
   "execution_count": 62,
   "metadata": {},
   "outputs": [
    {
     "name": "stdout",
     "output_type": "stream",
     "text": [
      "10101\n"
     ]
    }
   ],
   "source": [
    "'''\n",
    "+------------------------------------------09------------------------------------------+\n",
    "\n",
    "给你两个二进制字符串，返回它们的和（用二进制表示）。\n",
    "\n",
    "输入为 非空 字符串且只包含数字 1 和 0。\n",
    "\n",
    "+--------------------------------------------------------------------------------------+\n",
    "'''\n",
    "def addBinary(a: str, b: str) -> str:\n",
    "    length1 = len(a)\n",
    "    length2 = len(b)\n",
    "    if length1 < 1 or length1 > 10 ** 4:\n",
    "        return \n",
    "    if length2 < 1 or length2 > 10 ** 4:\n",
    "        return\n",
    "    result = \"\"\n",
    "    carry_out = 0\n",
    "    index1 = length1 - 1\n",
    "    index2 = length2 - 1\n",
    "    while index1 >= 0 or index2 >= 0 or carry_out == 1:\n",
    "        if index1 >= 0:\n",
    "            auxiliary1 = int(a[index1])\n",
    "        else:\n",
    "            auxiliary1 = 0\n",
    "        if index2 >= 0:\n",
    "            auxiliary2 = int(b[index2])\n",
    "        else:\n",
    "            auxiliary2 = 0\n",
    "        carry_out, auxiliary3 = divmod(auxiliary1 + auxiliary2 + carry_out, 2)\n",
    "        result = str(auxiliary3) + result\n",
    "        index1 -= 1\n",
    "        index2 -= 1\n",
    "    return result\n",
    "\n",
    "\n",
    "print(addBinary(\"11\",\"1\"))\n",
    "print(addBinary(\"1010\",\"1011\"))"
   ]
  },
  {
   "cell_type": "code",
   "execution_count": 66,
   "metadata": {},
   "outputs": [
    {
     "name": "stdout",
     "output_type": "stream",
     "text": [
      "4\n"
     ]
    }
   ],
   "source": [
    "'''\n",
    "+------------------------------------------10------------------------------------------+\n",
    "\n",
    "实现 int sqrt(int x) 函数。\n",
    "\n",
    "计算并返回 x 的平方根，其中 x 是非负整数。\n",
    "\n",
    "由于返回类型是整数，结果只保留整数的部分，小数部分将被舍去。\n",
    "\n",
    "+--------------------------------------------------------------------------------------+\n",
    "'''\n",
    "def Sqrt(x: int) -> int:\n",
    "    l,r,res=0,x,-1\n",
    "    while l<=r:\n",
    "        mid=(l+r)//2\n",
    "        mid_val=mid*mid\n",
    "        if mid_val<=x:\n",
    "            res=mid\n",
    "            l=mid+1\n",
    "        else:\n",
    "            r=mid-1\n",
    "    return res\n",
    "\n",
    "print(Sqrt(16))\n",
    "print(Sqrt(36))\n",
    "print(Sqrt(3))"
   ]
  },
  {
   "cell_type": "code",
   "execution_count": 71,
   "metadata": {},
   "outputs": [
    {
     "name": "stdout",
     "output_type": "stream",
     "text": [
      "4 1 2 1 2\n",
      "4\n"
     ]
    }
   ],
   "source": [
    "'''\n",
    "+------------------------------------------11------------------------------------------+\n",
    "\n",
    "给定一个非空整数数组，除了某个元素只出现一次以外，其余每个元素均出现两次。找出那个只出现\n",
    "了一次的元素。\n",
    "\n",
    "+--------------------------------------------------------------------------------------+\n",
    "'''\n",
    "num = map(int,input().split())\n",
    "result = 0\n",
    "for i in num:\n",
    "    result ^=i\n",
    "print(result)"
   ]
  },
  {
   "cell_type": "code",
   "execution_count": 80,
   "metadata": {},
   "outputs": [
    {
     "name": "stdout",
     "output_type": "stream",
     "text": [
      "5\n"
     ]
    }
   ],
   "source": [
    "'''\n",
    "+------------------------------------------12------------------------------------------+\n",
    "\n",
    "给定一个仅包含大小写字母和空格 ' ' 的字符串 s，返回其最后一个单词的长度。如果字符串从左向右滚动显示，那么最后一个单词就是最后出现的单词。\n",
    "\n",
    "如果不存在最后一个单词，请返回 0 。\n",
    "\n",
    "+--------------------------------------------------------------------------------------+\n",
    "'''\n",
    "def lengthOfLastWord(s: str) -> int:\n",
    "    if s == \" \":\n",
    "        return 0\n",
    "    s = s.rstrip()\n",
    "    length = len(s)\n",
    "    if length == 0:\n",
    "        return 0\n",
    "    anchor = 0\n",
    "    result = 0\n",
    "    for index in range(length - 1, -1, -1):\n",
    "        if s[index] == ' ':\n",
    "            anchor = index\n",
    "            break\n",
    "    if anchor > 0:\n",
    "        result = length - 1 - anchor\n",
    "    elif anchor == 0:\n",
    "        if s[0] == ' ':\n",
    "            result = len(s) - 1\n",
    "        else:\n",
    "            result = len(s)\n",
    "    return result\n",
    "\n",
    "    \n",
    "print(lengthOfLastWord(\"Hello World\"))"
   ]
  },
  {
   "cell_type": "code",
   "execution_count": 82,
   "metadata": {},
   "outputs": [
    {
     "name": "stdout",
     "output_type": "stream",
     "text": [
      "[[1, 2, 3], [1, 3, 2], [2, 1, 3], [2, 3, 1], [3, 1, 2], [3, 2, 1]]\n"
     ]
    }
   ],
   "source": [
    "'''\n",
    "+------------------------------------------13------------------------------------------+\n",
    "\n",
    "给定一个 没有重复 数字的序列，返回其所有可能的全排列。\n",
    "\n",
    "+--------------------------------------------------------------------------------------+\n",
    "'''\n",
    "from typing import List\n",
    "def permute(nums: List[int]) -> List[List[int]]:\n",
    "    result = []\n",
    "    auxiliary = []\n",
    "    def backtrack(nums, auxiliary, result):\n",
    "        if len(auxiliary) == len(nums):\n",
    "            result.append(auxiliary[:])\n",
    "            return \n",
    "        for index in range(len(nums)):\n",
    "            if nums[index] in auxiliary:\n",
    "                continue\n",
    "            auxiliary.append(nums[index])\n",
    "            backtrack(nums, auxiliary, result)\n",
    "            auxiliary.pop()\n",
    "    backtrack(nums, auxiliary, result)\n",
    "    return result\n",
    "\n",
    "\n",
    "print(permute([1,2,3]))"
   ]
  },
  {
   "cell_type": "code",
   "execution_count": 84,
   "metadata": {},
   "outputs": [
    {
     "name": "stdout",
     "output_type": "stream",
     "text": [
      "[[1], [1, 1], [1, 2, 1], [1, 3, 3, 1], [1, 4, 6, 4, 1]]\n"
     ]
    }
   ],
   "source": [
    "'''\n",
    "+------------------------------------------14------------------------------------------+\n",
    "\n",
    "给定一个非负整数 numRows，生成杨辉三角的前 numRows 行。\n",
    "\n",
    "+--------------------------------------------------------------------------------------+\n",
    "'''\n",
    "from typing import List\n",
    "def generate(numRows: int) -> List[List[int]]:\n",
    "    result = []\n",
    "    if numRows <= 0:\n",
    "        return result\n",
    "    for index1 in range(1, numRows + 1):\n",
    "        data = []\n",
    "        if index1 == 1:\n",
    "            data.append(1)\n",
    "        elif index1 == 2:\n",
    "            data.append(1)\n",
    "            data.append(1)\n",
    "        else:\n",
    "            for index2 in range(0, index1):\n",
    "                if index2 == 0:\n",
    "                    data.append(1)\n",
    "                elif index2 > 0 and index2 < index1 - 1:\n",
    "                    data.append(result[index1 - 2][index2 - 1] + result[index1 - 2][index2])\n",
    "                else:\n",
    "                    data.append(1)\n",
    "        result.append(data)\n",
    "    return result\n",
    "\n",
    "\n",
    "print(generate(5))"
   ]
  },
  {
   "cell_type": "code",
   "execution_count": 112,
   "metadata": {},
   "outputs": [
    {
     "name": "stdout",
     "output_type": "stream",
     "text": [
      "[0, 0, 1, 1, 2, 2]\n"
     ]
    }
   ],
   "source": [
    "'''\n",
    "+------------------------------------------15------------------------------------------+\n",
    "\n",
    "给定一个包含红色、白色和蓝色，一共 n 个元素的数组，原地对它们进行排序，使得相同颜色的元\n",
    "素相邻，并按照红色、白色、蓝色顺序排列。\n",
    "\n",
    "+--------------------------------------------------------------------------------------+\n",
    "'''\n",
    "def sortColors(nums: List[int]) -> None:\n",
    "    length = len(nums)\n",
    "    num_0 = 0\n",
    "    num_2 = length - 1    \n",
    "    index = 0\n",
    "    while index <= num_2:\n",
    "        if nums[index] == 0:\n",
    "            nums[index], nums[num_0] = nums[num_0], nums[index]\n",
    "            num_0 += 1\n",
    "        elif nums[index] == 2:\n",
    "            nums[index], nums[num_2] = nums[num_2], nums[index]\n",
    "            index -= 1    \n",
    "            num_2 -= 1\n",
    "        index += 1\n",
    "    print(nums)\n",
    "    \n",
    "\n",
    "sortColors([2,0,2,1,1,0])\n",
    "sortColors([2,0,1])\n",
    "sortColors([0])\n",
    "sortColors([1])"
   ]
  },
  {
   "cell_type": "code",
   "execution_count": null,
   "metadata": {},
   "outputs": [],
   "source": []
  }
 ],
 "metadata": {
  "kernelspec": {
   "display_name": "Python 3",
   "language": "python",
   "name": "python3"
  },
  "language_info": {
   "codemirror_mode": {
    "name": "ipython",
    "version": 3
   },
   "file_extension": ".py",
   "mimetype": "text/x-python",
   "name": "python",
   "nbconvert_exporter": "python",
   "pygments_lexer": "ipython3",
   "version": "3.9.0"
  }
 },
 "nbformat": 4,
 "nbformat_minor": 4
}
