{
 "cells": [
  {
   "cell_type": "code",
   "execution_count": 3,
   "metadata": {},
   "outputs": [
    {
     "name": "stdout",
     "output_type": "stream",
     "text": [
      "-10\n"
     ]
    }
   ],
   "source": [
    "'''\n",
    "+--------------------------------------------------------------------------------------+\n",
    "\n",
    "给定一个整数，将其转化为7进制，并以字符串形式输出。\n",
    "\n",
    "+--------------------------------------------------------------------------------------+\n",
    "'''\n",
    "def convertToBase7( num : int) -> str:\n",
    "    a=abs(num)//7\n",
    "    b=abs(num)%7\n",
    "    res=str(b)\n",
    "    while a!=0:\n",
    "        b=a%7\n",
    "        a=a//7\n",
    "        res+=str(b)\n",
    "    if num<0:\n",
    "        res+='-'\n",
    "    return res[::-1]\n",
    "\n",
    "\n",
    "print(convertToBase7(-7))"
   ]
  }
 ],
 "metadata": {
  "kernelspec": {
   "display_name": "Python 3",
   "language": "python",
   "name": "python3"
  },
  "language_info": {
   "codemirror_mode": {
    "name": "ipython",
    "version": 3
   },
   "file_extension": ".py",
   "mimetype": "text/x-python",
   "name": "python",
   "nbconvert_exporter": "python",
   "pygments_lexer": "ipython3",
   "version": "3.9.0"
  }
 },
 "nbformat": 4,
 "nbformat_minor": 4
}
