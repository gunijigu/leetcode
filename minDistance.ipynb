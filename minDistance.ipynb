{
 "cells": [
  {
   "cell_type": "code",
   "execution_count": 2,
   "metadata": {},
   "outputs": [
    {
     "name": "stdout",
     "output_type": "stream",
     "text": [
      "3\n",
      "5\n"
     ]
    }
   ],
   "source": [
    "'''\n",
    "+--------------------------------------------------------------------------------------+\n",
    "\n",
    "给你两个单词 word1 和 word2，请你计算出将 word1 转换成 word2 所使用的最少操作数 。\n",
    "\n",
    "你可以对一个单词进行如下三种操作：\n",
    "\n",
    "插入一个字符\n",
    "删除一个字符\n",
    "替换一个字符\n",
    "\n",
    "+--------------------------------------------------------------------------------------+\n",
    "'''\n",
    "def minDistance(word1, word2):\n",
    "    dp=[]\n",
    "    for i in range(len(word2)+1):dp.append([0]*(len(word1)+1))\n",
    "    for i in range(len(word2)+1):dp[i][0]=i \n",
    "    for i in range(len(word1)+1):dp[0][i]=i \n",
    "    for y in range(1,len(word2)+1):\n",
    "        for x in range(1,len(word1)+1):\n",
    "     \n",
    "            if(word2[y-1]==word1[x-1]):dp[y][x]=dp[y-1][x-1]\n",
    "            else:\n",
    "                delete_c=dp[y-1][x]+1       \n",
    "                add_c=dp[y][x-1]+1      \n",
    "                replace_c=dp[y-1][x-1]+1\n",
    "                dp[y][x]=min(add_c,delete_c,replace_c)\n",
    "    return dp[-1][-1]\n",
    "\n",
    "\n",
    "print(minDistance(\"horse\",\"ros\"))\n",
    "print(minDistance(\"intention\",\"execution\"))"
   ]
  }
 ],
 "metadata": {
  "kernelspec": {
   "display_name": "Python 3",
   "language": "python",
   "name": "python3"
  },
  "language_info": {
   "codemirror_mode": {
    "name": "ipython",
    "version": 3
   },
   "file_extension": ".py",
   "mimetype": "text/x-python",
   "name": "python",
   "nbconvert_exporter": "python",
   "pygments_lexer": "ipython3",
   "version": "3.9.0"
  }
 },
 "nbformat": 4,
 "nbformat_minor": 4
}
