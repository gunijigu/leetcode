{
 "cells": [
  {
   "cell_type": "code",
   "execution_count": 6,
   "metadata": {},
   "outputs": [
    {
     "name": "stdout",
     "output_type": "stream",
     "text": [
      "[0, 1]\n",
      "[1, 2]\n",
      "[0, 1]\n"
     ]
    }
   ],
   "source": [
    "'''\n",
    "+--------------------------------------------------------------------------------------+\n",
    "\n",
    "两数之和\n",
    "给定一个整数数组nums和一个整数目标值target请你在该数组中找出和为目标值的那两个整数，并\n",
    "返回它们的数组下标。\n",
    "\n",
    "你可以假设每种输入只会对应一个答案。但是，数组中同一个元素不能使用两遍。\n",
    "\n",
    "你可以按任意顺序返回答案。\n",
    "\n",
    "+--------------------------------------------------------------------------------------+\n",
    "'''\n",
    "from typing import List\n",
    "def twoSum(nums: List[int], target: int) -> List[int]:\n",
    "    n  = int(nums[0])\n",
    "    flag =0\n",
    "    for i in range(n):\n",
    "        if flag == 1:\n",
    "            break\n",
    "        num = target - nums[i]\n",
    "        for j in range(i+1,n):\n",
    "            if num == nums[j]:\n",
    "                flag = 1\n",
    "                index_1 = i\n",
    "                index_2 =j\n",
    "                break\n",
    "    if flag == 1:\n",
    "        return[index_1,index_2]\n",
    "    else:\n",
    "        return(\"false\")\n",
    "    \n",
    "    \n",
    "print(twoSum([2,7,11,15],9))\n",
    "print(twoSum([3,2,4],6))\n",
    "print(twoSum([3,3],6))"
   ]
  }
 ],
 "metadata": {
  "kernelspec": {
   "display_name": "Python 3",
   "language": "python",
   "name": "python3"
  },
  "language_info": {
   "codemirror_mode": {
    "name": "ipython",
    "version": 3
   },
   "file_extension": ".py",
   "mimetype": "text/x-python",
   "name": "python",
   "nbconvert_exporter": "python",
   "pygments_lexer": "ipython3",
   "version": "3.9.0"
  }
 },
 "nbformat": 4,
 "nbformat_minor": 4
}
