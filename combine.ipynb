{
 "cells": [
  {
   "cell_type": "code",
   "execution_count": 2,
   "metadata": {},
   "outputs": [
    {
     "name": "stdout",
     "output_type": "stream",
     "text": [
      "[[4, 1], [4, 2], [4, 3], [3, 1], [3, 2], [1, 2]]\n"
     ]
    }
   ],
   "source": [
    "'''\n",
    "+--------------------------------------------------------------------------------------+\n",
    "\n",
    "给定两个整数 n 和 k，返回 1 ... n 中所有可能的 k 个数的组合。\n",
    "\n",
    "+--------------------------------------------------------------------------------------+\n",
    "'''\n",
    "def combine(n, k):\n",
    "        l=[]\n",
    "        if(n==k):\n",
    "            for i in range(1,n+1):\n",
    "                l.append(i)\n",
    "            return [l]\n",
    "        if(k==1):\n",
    "            for i in range(1,n+1):\n",
    "                l.append([i])\n",
    "            return l\n",
    "        a=combine(n-1,k-1)\n",
    "        b=combine(n-1,k)\n",
    " \n",
    "        for  i in a:\n",
    "            l.append([n]+i)\n",
    "\n",
    "        l=l+b\n",
    "\n",
    "\n",
    "        return l\n",
    "\n",
    "    \n",
    "print(combine(4,2))"
   ]
  }
 ],
 "metadata": {
  "kernelspec": {
   "display_name": "Python 3",
   "language": "python",
   "name": "python3"
  },
  "language_info": {
   "codemirror_mode": {
    "name": "ipython",
    "version": 3
   },
   "file_extension": ".py",
   "mimetype": "text/x-python",
   "name": "python",
   "nbconvert_exporter": "python",
   "pygments_lexer": "ipython3",
   "version": "3.9.0"
  }
 },
 "nbformat": 4,
 "nbformat_minor": 4
}
