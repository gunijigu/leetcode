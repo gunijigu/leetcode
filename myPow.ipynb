{
 "cells": [
  {
   "cell_type": "code",
   "execution_count": 3,
   "metadata": {},
   "outputs": [
    {
     "name": "stdout",
     "output_type": "stream",
     "text": [
      "9.261000000000001\n",
      "1024.0\n",
      "0.25\n"
     ]
    }
   ],
   "source": [
    "'''\n",
    "+--------------------------------------------------------------------------------------+\n",
    "\n",
    "实现 pow(x, n) ，即计算 x 的 n 次幂函数\n",
    "\n",
    "+--------------------------------------------------------------------------------------+\n",
    "'''\n",
    "def myPow(x: float, n: int) -> float:\n",
    "    if n==0 :return 1\n",
    "    if(n<0):\n",
    "        x=1/x\n",
    "        n=-n\n",
    "    t=x\n",
    "    i=1\n",
    "    while((i*2)<n):\n",
    "        t=t*t\n",
    "        i=i*2\n",
    "    t=t*myPow(x,n-i)\n",
    "    return t\n",
    "\n",
    "\n",
    "print(myPow(2.10000,3))\n",
    "print(myPow(2.00000,10))\n",
    "print(myPow(2.00000,-2))"
   ]
  },
  {
   "cell_type": "code",
   "execution_count": null,
   "metadata": {},
   "outputs": [],
   "source": []
  }
 ],
 "metadata": {
  "kernelspec": {
   "display_name": "Python 3",
   "language": "python",
   "name": "python3"
  },
  "language_info": {
   "codemirror_mode": {
    "name": "ipython",
    "version": 3
   },
   "file_extension": ".py",
   "mimetype": "text/x-python",
   "name": "python",
   "nbconvert_exporter": "python",
   "pygments_lexer": "ipython3",
   "version": "3.9.0"
  }
 },
 "nbformat": 4,
 "nbformat_minor": 4
}
