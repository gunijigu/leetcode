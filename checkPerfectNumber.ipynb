{
 "cells": [
  {
   "cell_type": "code",
   "execution_count": 18,
   "metadata": {},
   "outputs": [
    {
     "name": "stdout",
     "output_type": "stream",
     "text": [
      "True\n",
      "False\n",
      "False\n",
      "False\n",
      "False\n"
     ]
    }
   ],
   "source": [
    "'''\n",
    "+--------------------------------------------------------------------------------------+\n",
    "\n",
    "对于一个正整数，如果它和除了它自身以外的所有正因子之和相等，我们称它为「完美数」。\n",
    "\n",
    "给定一个整数 n，如果是完美数，返回 true，否则返回 false\n",
    "\n",
    "+--------------------------------------------------------------------------------------+\n",
    "'''\n",
    "def checkPerfectNumber(num: int) -> bool:\n",
    "    \n",
    "    if num <= 0:\n",
    "        return False\n",
    "    \n",
    "    i, sum = 1, 0\n",
    "    while i*i <= num:\n",
    "        if num % i == 0:\n",
    "            sum += i\n",
    "        if i*i != num:\n",
    "            sum += num / i\n",
    "        i += 1\n",
    "    return sum - num == num\n",
    "\n",
    "\n",
    "print(checkPerfectNumber(6))\n",
    "print(checkPerfectNumber(28))\n",
    "print(checkPerfectNumber(496))\n",
    "print(checkPerfectNumber(8128))\n",
    "print(checkPerfectNumber(2))    "
   ]
  },
  {
   "cell_type": "code",
   "execution_count": null,
   "metadata": {},
   "outputs": [],
   "source": []
  }
 ],
 "metadata": {
  "kernelspec": {
   "display_name": "Python 3",
   "language": "python",
   "name": "python3"
  },
  "language_info": {
   "codemirror_mode": {
    "name": "ipython",
    "version": 3
   },
   "file_extension": ".py",
   "mimetype": "text/x-python",
   "name": "python",
   "nbconvert_exporter": "python",
   "pygments_lexer": "ipython3",
   "version": "3.9.0"
  }
 },
 "nbformat": 4,
 "nbformat_minor": 4
}
