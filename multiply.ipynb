{
 "cells": [
  {
   "cell_type": "code",
   "execution_count": 1,
   "metadata": {},
   "outputs": [
    {
     "name": "stdout",
     "output_type": "stream",
     "text": [
      "56088\n"
     ]
    }
   ],
   "source": [
    "'''\n",
    "+--------------------------------------------------------------------------------------+\n",
    "\n",
    "给定两个以字符串形式表示的非负整数 num1 和 num2，返回 num1 和 num2 的乘积，它们的乘积\n",
    "也表示为字符串形式。\n",
    "\n",
    "+--------------------------------------------------------------------------------------+\n",
    "'''\n",
    "def multiply(num1: str, num2: str) -> str:\n",
    "    dp=[0]*(len(num1)+len(num2))  \n",
    "    for i,n1 in enumerate(num1[::-1]):\n",
    "        for j,n2 in enumerate(num2[::-1]):\n",
    "            dp[i+j]+=int(n1)*int(n2)\n",
    "            dp[i+j+1]+=dp[i+j]//10\n",
    "            dp[i+j]%=10\n",
    "        \n",
    "    while dp[-1]==0 and len(dp)>1:dp.pop()\n",
    "    return ''.join(str(a) for a in dp[::-1])\n",
    "\n",
    "\n",
    "print(multiply(\"123\",\"456\"))"
   ]
  }
 ],
 "metadata": {
  "kernelspec": {
   "display_name": "Python 3",
   "language": "python",
   "name": "python3"
  },
  "language_info": {
   "codemirror_mode": {
    "name": "ipython",
    "version": 3
   },
   "file_extension": ".py",
   "mimetype": "text/x-python",
   "name": "python",
   "nbconvert_exporter": "python",
   "pygments_lexer": "ipython3",
   "version": "3.9.0"
  }
 },
 "nbformat": 4,
 "nbformat_minor": 4
}
