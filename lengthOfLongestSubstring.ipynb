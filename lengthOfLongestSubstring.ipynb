{
 "cells": [
  {
   "cell_type": "code",
   "execution_count": 1,
   "metadata": {},
   "outputs": [
    {
     "name": "stdout",
     "output_type": "stream",
     "text": [
      "3\n",
      "1\n",
      "3\n",
      "0\n"
     ]
    }
   ],
   "source": [
    "'''\n",
    "+--------------------------------------------------------------------------------------+\n",
    "\n",
    "给定一个字符串，请你找出其中不含有重复字符的 最长子串 的长度。\n",
    "\n",
    "+--------------------------------------------------------------------------------------+\n",
    "'''\n",
    "def lengthOfLongestSubstring(s: str) -> int:\n",
    "    temp = 0\n",
    "    length = len(s)\n",
    "    if length <= 0:\n",
    "        temp = 0\n",
    "    if length == 1:\n",
    "        temp = 1\n",
    "    head = 0\n",
    "    max_length = 0\n",
    "    myHashMap = {}\n",
    "    for index in range(length):\n",
    "        if s[index] in myHashMap and head <= myHashMap[s[index]]:\n",
    "            head = myHashMap[s[index]] + 1\n",
    "        else:\n",
    "            max_length = max(max_length, index - head + 1)\n",
    "        myHashMap[s[index]] = index\n",
    "    temp = max_length\n",
    "    return temp\n",
    "\n",
    "\n",
    "print(lengthOfLongestSubstring(\"abcabcbb\"))\n",
    "print(lengthOfLongestSubstring(\"bbbbb\"))\n",
    "print(lengthOfLongestSubstring(\"pwwkew\"))\n",
    "print(lengthOfLongestSubstring(\"\"))"
   ]
  },
  {
   "cell_type": "code",
   "execution_count": null,
   "metadata": {},
   "outputs": [],
   "source": []
  }
 ],
 "metadata": {
  "kernelspec": {
   "display_name": "Python 3",
   "language": "python",
   "name": "python3"
  },
  "language_info": {
   "codemirror_mode": {
    "name": "ipython",
    "version": 3
   },
   "file_extension": ".py",
   "mimetype": "text/x-python",
   "name": "python",
   "nbconvert_exporter": "python",
   "pygments_lexer": "ipython3",
   "version": "3.9.0"
  }
 },
 "nbformat": 4,
 "nbformat_minor": 4
}
