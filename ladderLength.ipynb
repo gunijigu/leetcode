{
 "cells": [
  {
   "cell_type": "code",
   "execution_count": 1,
   "metadata": {},
   "outputs": [
    {
     "name": "stdout",
     "output_type": "stream",
     "text": [
      "5\n"
     ]
    }
   ],
   "source": [
    "'''\n",
    "+--------------------------------------------------------------------------------------+\n",
    "\n",
    "给定两个单词（beginWord 和 endWord）和一个字典，找到从 beginWord \n",
    "到 endWord 的最短转换序列的长度。转换需遵循如下规则：\n",
    "\n",
    "每次转换只能改变一个字母。\n",
    "转换过程中的中间单词必须是字典中的单词。\n",
    "说明:\n",
    "\n",
    "如果不存在这样的转换序列，返回 0。\n",
    "所有单词具有相同的长度。\n",
    "所有单词只由小写字母组成。\n",
    "字典中不存在重复的单词。\n",
    "你可以假设 beginWord 和 endWord 是非空的，且二者不相同。\n",
    "\n",
    "+--------------------------------------------------------------------------------------+\n",
    "'''\n",
    "from collections import deque\n",
    "def ladderLength(beginWord, endWord, wordList):\n",
    "    if endWord not in wordList or beginWord == endWord:\n",
    "        return 0\n",
    "    visited = set()\n",
    "    wordList = set(wordList)\n",
    "        \n",
    "    q = deque()\n",
    "    q.append([beginWord, 0])\n",
    "        \n",
    "    char = \"abcdefghijklmnopqrstuvwxyz\"\n",
    "    while q:\n",
    "        cur, cnt = q.popleft() #从队列里取一个出来\n",
    "        if cur == endWord: #如果刚好找到了\n",
    "            return cnt + 1\n",
    "               \n",
    "        for i in range(len(cur)):\n",
    "            for j in range(26):\n",
    "                word = cur[:i] + char[j] + cur[i + 1:] #把26种变换可能都生成\n",
    "                if word in wordList and word not in visited: #判断变换有没有效\n",
    "                    visited.add(word)\n",
    "                    q.append([word, cnt + 1])\n",
    "                    \n",
    "    return 0\n",
    "\n",
    "\n",
    "print(ladderLength(\"hit\",\"cog\",[\"hot\",\"dot\",\"dog\",\"lot\",\"log\",\"cog\"]))\n",
    "                    \n"
   ]
  }
 ],
 "metadata": {
  "kernelspec": {
   "display_name": "Python 3",
   "language": "python",
   "name": "python3"
  },
  "language_info": {
   "codemirror_mode": {
    "name": "ipython",
    "version": 3
   },
   "file_extension": ".py",
   "mimetype": "text/x-python",
   "name": "python",
   "nbconvert_exporter": "python",
   "pygments_lexer": "ipython3",
   "version": "3.9.0"
  }
 },
 "nbformat": 4,
 "nbformat_minor": 4
}
