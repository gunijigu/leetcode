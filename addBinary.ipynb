{
 "cells": [
  {
   "cell_type": "code",
   "execution_count": 1,
   "metadata": {},
   "outputs": [
    {
     "name": "stdout",
     "output_type": "stream",
     "text": [
      "100\n",
      "10101\n"
     ]
    }
   ],
   "source": [
    "'''\n",
    "+--------------------------------------------------------------------------------------+\n",
    "\n",
    "给你两个二进制字符串，返回它们的和（用二进制表示）。\n",
    "\n",
    "输入为 非空 字符串且只包含数字 1 和 0。\n",
    "\n",
    "+--------------------------------------------------------------------------------------+\n",
    "'''\n",
    "def addBinary(a: str, b: str) -> str:\n",
    "    length1 = len(a)\n",
    "    length2 = len(b)\n",
    "    if length1 < 1 or length1 > 10 ** 4:\n",
    "        return \n",
    "    if length2 < 1 or length2 > 10 ** 4:\n",
    "        return\n",
    "    result = \"\"\n",
    "    carry_out = 0\n",
    "    index1 = length1 - 1\n",
    "    index2 = length2 - 1\n",
    "    while index1 >= 0 or index2 >= 0 or carry_out == 1:\n",
    "        if index1 >= 0:\n",
    "            auxiliary1 = int(a[index1])\n",
    "        else:\n",
    "            auxiliary1 = 0\n",
    "        if index2 >= 0:\n",
    "            auxiliary2 = int(b[index2])\n",
    "        else:\n",
    "            auxiliary2 = 0\n",
    "        carry_out, auxiliary3 = divmod(auxiliary1 + auxiliary2 + carry_out, 2)\n",
    "        result = str(auxiliary3) + result\n",
    "        index1 -= 1\n",
    "        index2 -= 1\n",
    "    return result\n",
    "\n",
    "\n",
    "print(addBinary(\"11\",\"1\"))\n",
    "print(addBinary(\"1010\",\"1011\"))"
   ]
  },
  {
   "cell_type": "code",
   "execution_count": null,
   "metadata": {},
   "outputs": [],
   "source": []
  }
 ],
 "metadata": {
  "kernelspec": {
   "display_name": "Python 3",
   "language": "python",
   "name": "python3"
  },
  "language_info": {
   "codemirror_mode": {
    "name": "ipython",
    "version": 3
   },
   "file_extension": ".py",
   "mimetype": "text/x-python",
   "name": "python",
   "nbconvert_exporter": "python",
   "pygments_lexer": "ipython3",
   "version": "3.9.0"
  }
 },
 "nbformat": 4,
 "nbformat_minor": 4
}
