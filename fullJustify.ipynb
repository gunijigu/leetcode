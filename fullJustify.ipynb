{
 "cells": [
  {
   "cell_type": "code",
   "execution_count": 2,
   "metadata": {},
   "outputs": [
    {
     "name": "stdout",
     "output_type": "stream",
     "text": [
      "['This    is    an', 'example  of text', 'justification.  ']\n",
      "['What   must   be', 'acknowledgment  ', 'shall be        ']\n"
     ]
    }
   ],
   "source": [
    "'''\n",
    "+--------------------------------------------------------------------------------------+\n",
    "\n",
    "给定一个单词数组和一个长度 maxWidth，重新排版单词，使其成为每行恰好有 maxWidth\n",
    "个字符，且左右两端对齐的文本。\n",
    "\n",
    "你应该使用“贪心算法”来放置给定的单词；也就是说，尽可能多地往每行中放置单词。\n",
    "必要时可用空格 ' ' 填充，使得每行恰好有 maxWidth 个字符。\n",
    "\n",
    "要求尽可能均匀分配单词间的空格数量。如果某一行单词间的空格不能均匀分配，则左侧放置的\n",
    "空格数要多于右侧的空格数。\n",
    "\n",
    "文本的最后一行应为左对齐，且单词之间不插入额外的空格。\n",
    "\n",
    "说明:\n",
    "\n",
    "单词是指由非空格字符组成的字符序列。\n",
    "每个单词的长度大于 0，小于等于 maxWidth。\n",
    "输入单词数组 words 至少包含一个单词。\n",
    "\n",
    "+--------------------------------------------------------------------------------------+\n",
    "'''\n",
    "def fullJustify(words, maxWidth):\n",
    "    l=[]\n",
    "    i=0\n",
    "    while(i<len(words)):\n",
    "        l.append([])\n",
    "        t=-1\n",
    "        while(i<len(words) and len(words[i])+1+t<=maxWidth):\n",
    "            l[-1].append(words[i])\n",
    "                \n",
    "            t=t+len(words[i])+1\n",
    "            i=i+1\n",
    "    e=[]\n",
    "    for i in range(len(l)-1):\n",
    "        s=l[i][0]\n",
    "        if (len(l[i]))==1:#只有一个单词便只用空格填充\n",
    "            s=s+(maxWidth-len(s))*' '\n",
    "            e.append(s)\n",
    "            continue\n",
    "        else:\n",
    "            t=sum(map(lambda x:len(x),l[i]))\n",
    "            a=maxWidth-t                #平分空格\n",
    "            b=a//(len(l[i])-1)\n",
    "            c=a%(len(l[i])-1)\n",
    "            k=1\n",
    "            while(k<=c):\n",
    "                s=s+' '*(b+1)+l[i][k]\n",
    "                k=k+1\n",
    "            while(k<len(l[i])):\n",
    "                s=s+' '*b+l[i][k]\n",
    "                k=k+1\n",
    "        e.append(s)\n",
    "    s=l[-1][0]\n",
    "    for i in range(1,len(l[-1])):\n",
    "        s=s+' '+l[-1][i]\n",
    "    s=s+(maxWidth-len(s))*' '\n",
    "    e.append(s)\n",
    "    return e\n",
    "\n",
    "\n",
    "print(fullJustify([\"This\", \"is\", \"an\", \"example\", \"of\", \"text\", \"justification.\"],16))\n",
    "print(fullJustify([\"What\",\"must\",\"be\",\"acknowledgment\",\"shall\",\"be\"],16))"
   ]
  }
 ],
 "metadata": {
  "kernelspec": {
   "display_name": "Python 3",
   "language": "python",
   "name": "python3"
  },
  "language_info": {
   "codemirror_mode": {
    "name": "ipython",
    "version": 3
   },
   "file_extension": ".py",
   "mimetype": "text/x-python",
   "name": "python",
   "nbconvert_exporter": "python",
   "pygments_lexer": "ipython3",
   "version": "3.9.0"
  }
 },
 "nbformat": 4,
 "nbformat_minor": 4
}
