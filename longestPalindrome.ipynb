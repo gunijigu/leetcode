{
 "cells": [
  {
   "cell_type": "code",
   "execution_count": 1,
   "metadata": {},
   "outputs": [
    {
     "name": "stdout",
     "output_type": "stream",
     "text": [
      "bab\n",
      "bb\n"
     ]
    }
   ],
   "source": [
    "'''\n",
    "+--------------------------------------------------------------------------------------+\n",
    "\n",
    "给定一个字符串 s，找到 s 中最长的回文子串。你可以假设 s 的最大长度为 1000。\n",
    "\n",
    "+--------------------------------------------------------------------------------------+\n",
    "'''\n",
    "def longestPalindrome(s: str) -> str:\n",
    "    a = \"\"\n",
    "    len_str=len(s)\n",
    "    if len_str==0:\n",
    "        a = ''\n",
    "    if len_str==1:\n",
    "        a =  s[0]\n",
    "    longest_len_odd=[]\n",
    "    longest_str_odd=[]\n",
    "    longest_len_even=[]\n",
    "    longest_str_even=[]\n",
    "    for i in range(len_str):\n",
    "        left=i\n",
    "        right=i\n",
    "        while left>=0 and right<len_str and s[left]==s[right]:\n",
    "            left=left-1\n",
    "            right=right+1\n",
    "        longest_len_odd.append(right-left-1)\n",
    "        longest_str_odd.append(s[left+1:right]) \n",
    "    for i in range(len_str):\n",
    "        left=i\n",
    "        right=i+1\n",
    "        while left>=0 and right<len_str and s[left]==s[right]:\n",
    "            left=left-1\n",
    "            right=right+1\n",
    "        longest_len_even.append(right-left-1)\n",
    "        longest_str_even.append(s[left+1:right]) \n",
    "    if max(longest_len_even)>=max(longest_len_odd):\n",
    "        a = longest_str_even[longest_len_even.index(max(longest_len_even))]\n",
    "    else:\n",
    "        a = longest_str_odd[longest_len_odd.index(max(longest_len_odd))]\n",
    "    return a\n",
    "\n",
    "\n",
    "print(longestPalindrome(\"babad\"))\n",
    "print(longestPalindrome(\"cbbd\"))"
   ]
  }
 ],
 "metadata": {
  "kernelspec": {
   "display_name": "Python 3",
   "language": "python",
   "name": "python3"
  },
  "language_info": {
   "codemirror_mode": {
    "name": "ipython",
    "version": 3
   },
   "file_extension": ".py",
   "mimetype": "text/x-python",
   "name": "python",
   "nbconvert_exporter": "python",
   "pygments_lexer": "ipython3",
   "version": "3.9.0"
  }
 },
 "nbformat": 4,
 "nbformat_minor": 4
}
