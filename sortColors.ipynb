{
 "cells": [
  {
   "cell_type": "code",
   "execution_count": 5,
   "metadata": {},
   "outputs": [
    {
     "name": "stdout",
     "output_type": "stream",
     "text": [
      "[0, 0, 1, 1, 2, 2]\n",
      "[0, 1, 2]\n",
      "[0]\n",
      "[1]\n"
     ]
    }
   ],
   "source": [
    "'''\n",
    "+--------------------------------------------------------------------------------------+\n",
    "\n",
    "给定一个包含红色、白色和蓝色，一共 n 个元素的数组，原地对它们进行排序，使得相同颜色的元\n",
    "素相邻，并按照红色、白色、蓝色顺序排列。\n",
    "\n",
    "+--------------------------------------------------------------------------------------+\n",
    "'''\n",
    "from typing import List\n",
    "def sortColors(nums: List[int]) -> None:\n",
    "    length = len(nums)\n",
    "    num_0 = 0\n",
    "    num_2 = length - 1    \n",
    "    index = 0\n",
    "    while index <= num_2:\n",
    "        if nums[index] == 0:\n",
    "            nums[index], nums[num_0] = nums[num_0], nums[index]\n",
    "            num_0 += 1\n",
    "        elif nums[index] == 2:\n",
    "            nums[index], nums[num_2] = nums[num_2], nums[index]\n",
    "            index -= 1    \n",
    "            num_2 -= 1\n",
    "        index += 1\n",
    "    print(nums)\n",
    "    \n",
    "\n",
    "sortColors([2,0,2,1,1,0])\n",
    "sortColors([2,0,1])\n",
    "sortColors([0])\n",
    "sortColors([1])"
   ]
  },
  {
   "cell_type": "code",
   "execution_count": null,
   "metadata": {},
   "outputs": [],
   "source": []
  }
 ],
 "metadata": {
  "kernelspec": {
   "display_name": "Python 3",
   "language": "python",
   "name": "python3"
  },
  "language_info": {
   "codemirror_mode": {
    "name": "ipython",
    "version": 3
   },
   "file_extension": ".py",
   "mimetype": "text/x-python",
   "name": "python",
   "nbconvert_exporter": "python",
   "pygments_lexer": "ipython3",
   "version": "3.9.0"
  }
 },
 "nbformat": 4,
 "nbformat_minor": 4
}
