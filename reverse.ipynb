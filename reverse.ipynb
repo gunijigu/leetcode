{
 "cells": [
  {
   "cell_type": "code",
   "execution_count": 1,
   "metadata": {},
   "outputs": [
    {
     "name": "stdout",
     "output_type": "stream",
     "text": [
      "321\n",
      "-321\n",
      "21\n"
     ]
    }
   ],
   "source": [
    "'''\n",
    "+--------------------------------------------------------------------------------------+\n",
    "\n",
    "给出一个 32 位的有符号整数，你需要将这个整数中每位上的数字进行反转。\n",
    "\n",
    "+--------------------------------------------------------------------------------------+\n",
    "'''\n",
    "def reverse(x: int) -> int:\n",
    "    a = str(x)\n",
    "    y = list(a)\n",
    "    y.reverse()\n",
    "    if y[-1] == \"-\":\n",
    "        y.remove('-')\n",
    "        y.insert(0,\"-\")\n",
    "    if y[0] == 0:\n",
    "        y.remove('0')\n",
    "    y2 = ''.join(y)\n",
    "    z = int(str(y2))\n",
    "    if z < (-2**31) or z > (2**31-1):\n",
    "        z = 0\n",
    "    return z\n",
    "\n",
    "\n",
    "print(reverse(123))\n",
    "print(reverse(-123))\n",
    "print(reverse(120))"
   ]
  }
 ],
 "metadata": {
  "kernelspec": {
   "display_name": "Python 3",
   "language": "python",
   "name": "python3"
  },
  "language_info": {
   "codemirror_mode": {
    "name": "ipython",
    "version": 3
   },
   "file_extension": ".py",
   "mimetype": "text/x-python",
   "name": "python",
   "nbconvert_exporter": "python",
   "pygments_lexer": "ipython3",
   "version": "3.9.0"
  }
 },
 "nbformat": 4,
 "nbformat_minor": 4
}
