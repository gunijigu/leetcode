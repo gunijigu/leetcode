{
 "cells": [
  {
   "cell_type": "code",
   "execution_count": 2,
   "metadata": {},
   "outputs": [
    {
     "name": "stdout",
     "output_type": "stream",
     "text": [
      "fl\n",
      "\n"
     ]
    }
   ],
   "source": [
    "'''\n",
    "+--------------------------------------------------------------------------------------+\n",
    "\n",
    "编写一个函数来查找字符串数组中的最长公共前缀。\n",
    "\n",
    "如果不存在公共前缀，返回空字符串 \"\"。\n",
    "\n",
    "+--------------------------------------------------------------------------------------+\n",
    "'''\n",
    "from typing import List\n",
    "def longestCommonPrefix(strs: List[str]) -> str:\n",
    "    if not strs:\n",
    "        return \"\"\n",
    "    length = len(strs)\n",
    "    if length == 1:\n",
    "        return strs[0]\n",
    "    result = strs[0]\n",
    "    for index in range(1,length):\n",
    "        if strs[index] == 0 or not result:\n",
    "                return \"\"\n",
    "        length_min = min(len(result),len(strs[index]))\n",
    "        auxiliary = \"\"\n",
    "        for index2 in range(length_min):\n",
    "            if result[index2] == strs[index][index2]:\n",
    "                auxiliary = auxiliary + result[index2]\n",
    "            else:\n",
    "                break\n",
    "        result = auxiliary\n",
    "    return result\n",
    "\n",
    "\n",
    "print(longestCommonPrefix([\"flower\",\"flow\",\"flight\"]))\n",
    "print(longestCommonPrefix([\"dog\",\"racecar\",\"car\"]))"
   ]
  },
  {
   "cell_type": "code",
   "execution_count": null,
   "metadata": {},
   "outputs": [],
   "source": []
  }
 ],
 "metadata": {
  "kernelspec": {
   "display_name": "Python 3",
   "language": "python",
   "name": "python3"
  },
  "language_info": {
   "codemirror_mode": {
    "name": "ipython",
    "version": 3
   },
   "file_extension": ".py",
   "mimetype": "text/x-python",
   "name": "python",
   "nbconvert_exporter": "python",
   "pygments_lexer": "ipython3",
   "version": "3.9.0"
  }
 },
 "nbformat": 4,
 "nbformat_minor": 4
}
