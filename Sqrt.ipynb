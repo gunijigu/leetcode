{
 "cells": [
  {
   "cell_type": "code",
   "execution_count": 1,
   "metadata": {},
   "outputs": [
    {
     "name": "stdout",
     "output_type": "stream",
     "text": [
      "4\n",
      "6\n",
      "1\n"
     ]
    }
   ],
   "source": [
    "'''\n",
    "+--------------------------------------------------------------------------------------+\n",
    "\n",
    "实现 int sqrt(int x) 函数。\n",
    "\n",
    "计算并返回 x 的平方根，其中 x 是非负整数。\n",
    "\n",
    "由于返回类型是整数，结果只保留整数的部分，小数部分将被舍去。\n",
    "\n",
    "+--------------------------------------------------------------------------------------+\n",
    "'''\n",
    "def Sqrt(x: int) -> int:\n",
    "    l,r,res=0,x,-1\n",
    "    while l<=r:\n",
    "        mid=(l+r)//2\n",
    "        mid_val=mid*mid\n",
    "        if mid_val<=x:\n",
    "            res=mid\n",
    "            l=mid+1\n",
    "        else:\n",
    "            r=mid-1\n",
    "    return res\n",
    "\n",
    "print(Sqrt(16))\n",
    "print(Sqrt(36))\n",
    "print(Sqrt(3))"
   ]
  },
  {
   "cell_type": "code",
   "execution_count": null,
   "metadata": {},
   "outputs": [],
   "source": []
  }
 ],
 "metadata": {
  "kernelspec": {
   "display_name": "Python 3",
   "language": "python",
   "name": "python3"
  },
  "language_info": {
   "codemirror_mode": {
    "name": "ipython",
    "version": 3
   },
   "file_extension": ".py",
   "mimetype": "text/x-python",
   "name": "python",
   "nbconvert_exporter": "python",
   "pygments_lexer": "ipython3",
   "version": "3.9.0"
  }
 },
 "nbformat": 4,
 "nbformat_minor": 4
}
