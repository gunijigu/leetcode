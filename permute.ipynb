{
 "cells": [
  {
   "cell_type": "code",
   "execution_count": 1,
   "metadata": {},
   "outputs": [
    {
     "name": "stdout",
     "output_type": "stream",
     "text": [
      "[[1, 2, 3], [1, 3, 2], [2, 1, 3], [2, 3, 1], [3, 1, 2], [3, 2, 1]]\n"
     ]
    }
   ],
   "source": [
    "'''\n",
    "+--------------------------------------------------------------------------------------+\n",
    "\n",
    "给定一个 没有重复 数字的序列，返回其所有可能的全排列。\n",
    "\n",
    "+--------------------------------------------------------------------------------------+\n",
    "'''\n",
    "from typing import List\n",
    "def permute(nums: List[int]) -> List[List[int]]:\n",
    "    result = []\n",
    "    auxiliary = []\n",
    "    def backtrack(nums, auxiliary, result):\n",
    "        if len(auxiliary) == len(nums):\n",
    "            result.append(auxiliary[:])\n",
    "            return \n",
    "        for index in range(len(nums)):\n",
    "            if nums[index] in auxiliary:\n",
    "                continue\n",
    "            auxiliary.append(nums[index])\n",
    "            backtrack(nums, auxiliary, result)\n",
    "            auxiliary.pop()\n",
    "    backtrack(nums, auxiliary, result)\n",
    "    return result\n",
    "\n",
    "\n",
    "print(permute([1,2,3]))"
   ]
  }
 ],
 "metadata": {
  "kernelspec": {
   "display_name": "Python 3",
   "language": "python",
   "name": "python3"
  },
  "language_info": {
   "codemirror_mode": {
    "name": "ipython",
    "version": 3
   },
   "file_extension": ".py",
   "mimetype": "text/x-python",
   "name": "python",
   "nbconvert_exporter": "python",
   "pygments_lexer": "ipython3",
   "version": "3.9.0"
  }
 },
 "nbformat": 4,
 "nbformat_minor": 4
}
