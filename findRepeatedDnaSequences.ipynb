{
 "cells": [
  {
   "cell_type": "code",
   "execution_count": 3,
   "metadata": {},
   "outputs": [
    {
     "name": "stdout",
     "output_type": "stream",
     "text": [
      "['AAAAACCCCC', 'CCCCCAAAAA']\n"
     ]
    }
   ],
   "source": [
    "'''\n",
    "+--------------------------------------------------------------------------------------+\n",
    "\n",
    "所有 DNA 都由一系列缩写为 'A'，'C'，'G' 和 'T' 的核苷酸组成，例如：\"ACGAATTCCG\"。在研究 \n",
    "DNA 时，识别 DNA 中的重复序列有时会对研究非常有帮助。\n",
    "\n",
    "编写一个函数来找出所有目标子串，目标子串的长度为 10，且在 DNA 字符串 s 中出现次数超过\n",
    "一次。\n",
    "\n",
    "+--------------------------------------------------------------------------------------+\n",
    "'''\n",
    "from typing import List\n",
    "def findRepeatedDnaSequences(s: str) ->List[str]:\n",
    "    d = {}\n",
    "    for i in range(len(s) - 9):\n",
    "        if s[i: i + 10] in d:\n",
    "            d[s[i: i + 10]] = True\n",
    "        else:\n",
    "            d[s[i: i + 10]] = False\n",
    "    return [i for i in d if d[i]]\n",
    "\n",
    "\n",
    "print(findRepeatedDnaSequences(\"AAAAACCCCCAAAAACCCCCCAAAAAGGGTTT\"))\n",
    "    "
   ]
  },
  {
   "cell_type": "code",
   "execution_count": null,
   "metadata": {},
   "outputs": [],
   "source": []
  }
 ],
 "metadata": {
  "kernelspec": {
   "display_name": "Python 3",
   "language": "python",
   "name": "python3"
  },
  "language_info": {
   "codemirror_mode": {
    "name": "ipython",
    "version": 3
   },
   "file_extension": ".py",
   "mimetype": "text/x-python",
   "name": "python",
   "nbconvert_exporter": "python",
   "pygments_lexer": "ipython3",
   "version": "3.9.0"
  }
 },
 "nbformat": 4,
 "nbformat_minor": 4
}
